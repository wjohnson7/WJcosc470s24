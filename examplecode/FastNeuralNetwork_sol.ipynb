{
  "nbformat": 4,
  "nbformat_minor": 0,
  "metadata": {
    "colab": {
      "provenance": [],
      "authorship_tag": "ABX9TyOq9CCiTzkZbY2M0y0EGQfL",
      "include_colab_link": true
    },
    "kernelspec": {
      "name": "python3",
      "display_name": "Python 3"
    },
    "language_info": {
      "name": "python"
    }
  },
  "cells": [
    {
      "cell_type": "markdown",
      "metadata": {
        "id": "view-in-github",
        "colab_type": "text"
      },
      "source": [
        "<a href=\"https://colab.research.google.com/github/kartoone/cosc470s24/blob/main/examplecode/FastNeuralNetwork_sol.ipynb\" target=\"_parent\"><img src=\"https://colab.research.google.com/assets/colab-badge.svg\" alt=\"Open In Colab\"/></a>"
      ]
    },
    {
      "cell_type": "markdown",
      "source": [
        "The **Hello, world** of neural networks\n",
        "This code builds a simple neural network that can recognize handwritten 28x28 pixel digits.\n",
        "\n",
        "Our first version will have 15 neurons in the hidden layer and 10 output neurons.\n",
        "\n",
        "See image below:\n",
        "http://neuralnetworksanddeeplearning.com/images/tikz12.png\n",
        "\n",
        "How many weights in this network?\n",
        "11760 weights in the first layer (784 * 15) and 150 weights in the second layer (15 * 10) = 11910 weights total\n",
        "15 biases in the hidden layer and 10 biases in the output layer = 25 biases total.\n",
        "11910 + 25 = 11935 parameters!"
      ],
      "metadata": {
        "id": "X6OTVSJZLxzO"
      }
    },
    {
      "cell_type": "code",
      "execution_count": null,
      "metadata": {
        "id": "NQQ0yjJ6LUBN",
        "colab": {
          "base_uri": "https://localhost:8080/"
        },
        "outputId": "b694eedf-c4a4-4497-9946-c02bbb18a88a"
      },
      "outputs": [
        {
          "output_type": "stream",
          "name": "stdout",
          "text": [
            "Cloning into 'nn'...\n",
            "remote: Enumerating objects: 63, done.\u001b[K\n",
            "remote: Counting objects: 100% (8/8), done.\u001b[K\n",
            "remote: Compressing objects: 100% (8/8), done.\u001b[K\n",
            "remote: Total 63 (delta 1), reused 3 (delta 0), pack-reused 55\u001b[K\n",
            "Receiving objects: 100% (63/63), 16.43 MiB | 25.12 MiB/s, done.\n",
            "Resolving deltas: 100% (28/28), done.\n",
            "/content/nn\n"
          ]
        }
      ],
      "source": [
        "!git clone https://github.com/MichalDanielDobrzanski/DeepLearningPython nn\n",
        "%cd nn"
      ]
    },
    {
      "cell_type": "code",
      "source": [
        "# this code depends on having executed the previous cell\n",
        "# (i.e., you need to have cloned the nn code and cd'ed into it)\n",
        "import network\n",
        "import mnist_loader\n",
        "training_data, validation_data, test_data = mnist_loader.load_data_wrapper()\n",
        "training_data = list(training_data)\n",
        "test_data = list(test_data)\n"
      ],
      "metadata": {
        "id": "TY_GaewAIO1z"
      },
      "execution_count": null,
      "outputs": []
    },
    {
      "cell_type": "code",
      "source": [
        "import numpy as np\n",
        "print(np.shape(training_data))\n",
        "print(np.shape(training_data[0][0]))\n",
        "print(np.shape(training_data[0][1]))\n",
        "print(training_data[0][1])"
      ],
      "metadata": {
        "colab": {
          "base_uri": "https://localhost:8080/"
        },
        "id": "5OCPyJhtQYtc",
        "outputId": "b84ec748-0b09-4850-8413-3544325a045f"
      },
      "execution_count": null,
      "outputs": [
        {
          "output_type": "stream",
          "name": "stdout",
          "text": [
            "(50000, 2)\n",
            "(784, 1)\n",
            "(10, 1)\n",
            "[[0.]\n",
            " [0.]\n",
            " [0.]\n",
            " [0.]\n",
            " [0.]\n",
            " [1.]\n",
            " [0.]\n",
            " [0.]\n",
            " [0.]\n",
            " [0.]]\n"
          ]
        },
        {
          "output_type": "stream",
          "name": "stderr",
          "text": [
            "/usr/local/lib/python3.10/dist-packages/numpy/core/fromnumeric.py:2009: VisibleDeprecationWarning: Creating an ndarray from ragged nested sequences (which is a list-or-tuple of lists-or-tuples-or ndarrays with different lengths or shapes) is deprecated. If you meant to do this, you must specify 'dtype=object' when creating the ndarray.\n",
            "  result = asarray(a).shape\n"
          ]
        }
      ]
    },
    {
      "cell_type": "code",
      "source": [
        "# average digit darkness\n",
        "# step 1 - write a function that can calculate the darkness of a single image\n",
        "def image_darkness(imgpixeldata):\n",
        "  darkness_total = 0\n",
        "  for x in imgpixeldata:\n",
        "    darkness_total = darkness_total + x\n",
        "  return darkness_total[0]\n",
        "\n",
        "# step 2 - call that function on all the training images and calculate the average darkness of each digit\n",
        "darkness = image_darkness(training_data[0][0])\n",
        "whichimage = np.argmax(training_data[0][1])\n",
        "print(f\"The first image was a {whichimage} and its darkness was {darkness}\")\n",
        "darkness = image_darkness(training_data[1][0])\n",
        "whichimage = np.argmax(training_data[1][1])\n",
        "print(f\"The second image was a {whichimage} and its darkness was {darkness}\")\n",
        "\n",
        "# define a 10-element list of darkness totals\n",
        "darkness_totals = [0 for _ in range(10)]\n",
        "# define a 10-elment list of digit counts\n",
        "darkness_counts = [0 for _ in range(10)]\n",
        "\n",
        "# iterate through each image and update the two data structures\n",
        "for training_img in training_data:\n",
        "  darkness = image_darkness(training_img[0]) # replace this with the correct function call!\n",
        "  whichimage = np.argmax(training_img[1])\n",
        "  darkness_totals[whichimage] += darkness\n",
        "  darkness_counts[whichimage] += 1\n",
        "\n",
        "# now calculate the averages\n",
        "darkness_averages = [darkness_totals[i]/darkness_counts[i] for i in range(10)]\n",
        "\n",
        "print(darkness_counts)\n",
        "print(darkness_averages)\n",
        "\n",
        "# step 3 - use those averages to classify all the test data images and count how many of each digit you get right\n",
        "def find_closest(darkness, darkness_averages):\n",
        "  # add code here that determines which average was closest to darkness\n",
        "  return 0\n",
        "\n",
        "correct_counts = [0 for _ in range(10)]\n",
        "wrong_counts = [0 for _ in range(10)]\n",
        "\n",
        "for imgdata, whichimage in test_data:\n",
        "  darkness = image_darkness(imgdata)\n",
        "  # see which darkness_average is closest to \"darkness\" and make that our classification for this image\n",
        "  closest_digit = find_closest(darkness, darkness_averages)\n",
        "  if closest_digit == whichimage:\n",
        "    correct_counts[whichimage] += 1\n",
        "  else:\n",
        "    wrong_counts[whichimage] += 1\n",
        "\n",
        "# now that we have our correct/wrong counts, turn that into accuracies\n",
        "digit_accuracies = [correct_counts[i]/(correct_counts[i]+wrong_counts[i]) for i in range(10)]\n",
        "print(digit_accuracies)"
      ],
      "metadata": {
        "colab": {
          "base_uri": "https://localhost:8080/"
        },
        "id": "xiMrbkucJPL9",
        "outputId": "4f3a2d95-0d7f-4322-b954-48519da880ac"
      },
      "execution_count": null,
      "outputs": [
        {
          "output_type": "stream",
          "name": "stdout",
          "text": [
            "The first image was a 5 and its darkness was 107.51953125\n",
            "The second image was a 0 and its darkness was 121.46484375\n",
            "[4932, 5678, 4968, 5101, 4859, 4506, 4951, 5175, 4842, 4988]\n",
            "[135.8691200324412, 59.66034750352237, 116.294303857186, 110.87092451235051, 95.22073970338548, 100.34646166222814, 107.38312020298929, 89.8788345410628, 117.88056410703221, 96.0455585592923]\n",
            "[1.0, 0.0, 0.0, 0.0, 0.0, 0.0, 0.0, 0.0, 0.0, 0.0]\n"
          ]
        }
      ]
    },
    {
      "cell_type": "code",
      "source": [
        "print(np.shape(test_data))\n",
        "print(np.shape(test_data[0]))\n",
        "print(test_data[0][1])\n"
      ],
      "metadata": {
        "colab": {
          "base_uri": "https://localhost:8080/"
        },
        "id": "vRcQD33wRB1c",
        "outputId": "bab08b5f-fe96-4226-bbc0-5d2faa154234"
      },
      "execution_count": null,
      "outputs": [
        {
          "output_type": "stream",
          "name": "stdout",
          "text": [
            "(10000, 2)\n",
            "(2,)\n",
            "7\n"
          ]
        }
      ]
    },
    {
      "cell_type": "code",
      "source": [
        "# part 2 - use this default configuration and the following hyper-parameters\n",
        "#    epochs - 30\n",
        "#    batch size - 10\n",
        "#    learning rate - 3.0\n",
        "net = network.Network([784, 30, 10])\n",
        "net.SGD(training_data, 30, 10, 3.0, test_data=test_data)\n"
      ],
      "metadata": {
        "colab": {
          "base_uri": "https://localhost:8080/"
        },
        "id": "V3qm9cgIQ2rh",
        "outputId": "c11bc190-0159-4cb9-ab58-d604da224829"
      },
      "execution_count": null,
      "outputs": [
        {
          "output_type": "stream",
          "name": "stdout",
          "text": [
            "Epoch 0 : 9016 / 10000\n",
            "Epoch 1 : 9244 / 10000\n",
            "Epoch 2 : 9324 / 10000\n",
            "Epoch 3 : 9333 / 10000\n",
            "Epoch 4 : 9399 / 10000\n"
          ]
        }
      ]
    },
    {
      "cell_type": "code",
      "source": [
        "import numpy as np\n",
        "a = net.feedforward(test_data[2][0])\n",
        "print(a)\n",
        "print(np.argmax(a))\n",
        "print(test_data[2][1])\n",
        "\n",
        "# per digit accuracies\n",
        "# loop through the test data again\n",
        "# calculate how many of each digit was classified correctly\n",
        "\n",
        "correct_counts = [0 for _ in range(10)]\n",
        "digit_counts = [0 for _ in range(10)]\n",
        "\n",
        "for (x, y) in test_data:\n",
        "  a = np.argmax(net.feedforward(x))\n",
        "  if a == y:\n",
        "    correct_counts[y] += 1\n",
        "  digit_counts[y] += 1\n",
        "\n",
        "print(correct_counts)\n",
        "print(digit_counts)\n",
        "accuracies = [correct_counts[i]/digit_counts[i] for i in range(10)]\n",
        "print(accuracies)"
      ],
      "metadata": {
        "colab": {
          "base_uri": "https://localhost:8080/"
        },
        "id": "LPbCl_Rio5bK",
        "outputId": "3576a420-e08f-4a6a-afe3-7e7eaa6dfe6d"
      },
      "execution_count": null,
      "outputs": [
        {
          "output_type": "stream",
          "name": "stdout",
          "text": [
            "[[2.30398987e-08]\n",
            " [9.99667197e-01]\n",
            " [2.43557398e-04]\n",
            " [1.00243878e-04]\n",
            " [1.54438543e-06]\n",
            " [2.14741900e-03]\n",
            " [1.15461889e-02]\n",
            " [1.65369100e-03]\n",
            " [9.12449618e-04]\n",
            " [1.29864289e-05]]\n",
            "1\n",
            "1\n",
            "[957, 1111, 957, 931, 910, 826, 914, 956, 898, 939]\n",
            "[980, 1135, 1032, 1010, 982, 892, 958, 1028, 974, 1009]\n",
            "[0.976530612244898, 0.9788546255506608, 0.9273255813953488, 0.9217821782178218, 0.9266802443991853, 0.9260089686098655, 0.954070981210856, 0.9299610894941635, 0.9219712525667351, 0.9306243805748265]\n"
          ]
        }
      ]
    },
    {
      "cell_type": "code",
      "source": [
        "import matplotlib.pyplot as plt\n",
        "fig = plt.figure(figsize = (10, 5))\n",
        " # creating the bar plot\n",
        "plt.bar(range(0,10), accuracies, color ='maroon',\n",
        "        width = 0.4)\n",
        "plt.xlabel(\"Digit\")\n",
        "plt.ylabel(\"Accuracy\")\n",
        "plt.title(\"Per digit accuracy for standard hyperparams\")\n",
        "plt.show()"
      ],
      "metadata": {
        "colab": {
          "base_uri": "https://localhost:8080/",
          "height": 481
        },
        "id": "T9P4DXeSBlAK",
        "outputId": "2cea1709-b426-4ef3-d657-b319dd9417ea"
      },
      "execution_count": null,
      "outputs": [
        {
          "output_type": "display_data",
          "data": {
            "text/plain": [
              "<Figure size 1000x500 with 1 Axes>"
            ],
            "image/png": "[encoded data removed]"
          },
          "metadata": {}
        }
      ]
    },
    {
      "cell_type": "code",
      "source": [
        "print(np.shape(net.weights[0]))\n",
        "print(net.weights[0])"
      ],
      "metadata": {
        "colab": {
          "base_uri": "https://localhost:8080/"
        },
        "id": "-adILgnNKqe9",
        "outputId": "6a4a2bf6-9bcf-4532-d093-f897b1cdee17"
      },
      "execution_count": null,
      "outputs": [
        {
          "output_type": "stream",
          "name": "stdout",
          "text": [
            "(30, 784)\n",
            "[[ 0.45745312 -0.43668441  0.06388325 ... -0.01876614  0.69747384\n",
            "   1.75032045]\n",
            " [ 0.31008606 -1.31462574 -0.95998785 ...  2.07556124 -0.23319521\n",
            "  -0.5521895 ]\n",
            " [ 2.62684071  0.59619412  0.75105954 ...  0.39065436  0.21883096\n",
            "  -0.15008028]\n",
            " ...\n",
            " [ 0.12553374  1.12652397 -0.19640291 ... -1.06957326 -0.38014393\n",
            "   2.12662076]\n",
            " [-0.33401933 -0.27315002 -0.64691649 ...  0.57483904 -1.0439243\n",
            "  -0.26700133]\n",
            " [-2.64108907  0.69231545 -1.57468679 ... -0.20718688  0.5363602\n",
            "   0.16273624]]\n"
          ]
        }
      ]
    },
    {
      "cell_type": "code",
      "source": [
        "print(np.shape(net.weights[1]))\n",
        "print(net.weights[1])"
      ],
      "metadata": {
        "colab": {
          "base_uri": "https://localhost:8080/"
        },
        "id": "3HFpBqj4MJWh",
        "outputId": "57caf5da-b1f7-4e9d-9ad3-ef408720f14c"
      },
      "execution_count": null,
      "outputs": [
        {
          "output_type": "stream",
          "name": "stdout",
          "text": [
            "(10, 30)\n",
            "[[ 8.92742895e-02 -9.53000886e-01 -4.57105149e-01  8.12327680e-01\n",
            "  -1.66712716e+00 -3.52723344e+00  2.43366417e+00 -1.17334118e+00\n",
            "   8.58573096e-01 -6.38617216e-01 -3.98845904e+00  2.60882754e+00\n",
            "  -3.45033814e+00 -4.68697776e+00 -2.93102636e-02 -2.10035207e+00\n",
            "  -1.34230789e+00 -6.94064697e-01 -1.19457306e+00 -2.29509311e+00\n",
            "   3.69451831e+00 -5.47055566e-01  2.43794816e+00 -1.72272752e+00\n",
            "   2.40744671e-01  1.47444250e+00 -1.05438717e+00 -1.86542911e+00\n",
            "  -1.06224867e-01 -2.56395561e+00]\n",
            " [-7.34977609e-01  4.91942640e+00 -1.66675986e+00  1.59401840e+00\n",
            "  -2.16068409e+00 -1.51479916e+00 -1.24537721e+00 -1.68016775e+00\n",
            "   3.37529651e+00 -2.55192130e-01 -6.61492715e-01 -1.81183859e+00\n",
            "   1.68476200e+00 -3.24190509e-01  1.90014317e+00  1.24494728e+00\n",
            "  -4.40024242e+00 -1.63853095e+00 -2.36185595e+00 -8.24469577e-01\n",
            "  -1.22617148e+00 -2.62641360e-01 -3.39598402e+00  1.40744340e+00\n",
            "  -1.83806995e+00 -7.40020693e-01 -1.30620128e+00  1.84904317e+00\n",
            "  -2.15747635e+00  7.20940625e-01]\n",
            " [-2.00012804e+00 -4.47340735e+00 -4.10174465e+00 -1.68728779e+00\n",
            "   3.43772417e+00 -4.39950291e-01 -1.01861013e+00 -1.74087284e+00\n",
            "   7.41972442e-02 -8.48880992e-01  4.49429179e+00 -1.45266742e-01\n",
            "   2.28981194e-01 -1.06400163e+00  1.28358135e-01 -4.45025880e-01\n",
            "   3.70791508e+00  3.96636741e+00 -2.03563838e-01 -6.90680217e-01\n",
            "   2.41501699e+00 -1.15948931e-01 -1.40933711e+00 -3.72756080e+00\n",
            "  -1.90351878e-01 -3.71988276e+00 -6.79415949e-01  1.33284971e+00\n",
            "  -5.86751686e-01 -1.42186576e+00]\n",
            " [-4.18101663e-01 -2.50447025e+00 -3.02191066e+00  1.41234487e+00\n",
            "  -4.01669888e+00 -2.69785880e+00 -8.29362445e-01 -2.43272368e+00\n",
            "  -3.86044611e-01 -2.85263101e+00 -3.29467569e+00 -3.41481050e-01\n",
            "   2.71501806e+00 -2.29385737e+00  8.79398988e-01 -1.75464854e+00\n",
            "  -2.30497351e+00  9.86450861e-01 -1.18941539e+00 -1.16876046e+00\n",
            "  -8.93726695e-01  3.90050146e+00  2.94085851e+00 -4.21461821e-02\n",
            "   5.32335035e-01 -2.16850322e+00  6.16172737e-01 -4.05100206e+00\n",
            "   2.64849537e+00  1.56793737e+00]\n",
            " [-9.17653922e-01 -1.00802682e+00 -3.65312486e+00 -3.90210282e+00\n",
            "  -2.29327302e-01  4.05186621e-01 -3.18877517e+00 -1.99022206e+00\n",
            "   1.51054720e-01 -1.66392733e+00 -2.09729103e+00 -5.25586219e-01\n",
            "  -5.20284622e-01  2.61502813e+00 -3.25039055e+00  1.46046528e+00\n",
            "   3.76739124e+00 -3.03391933e+00 -3.53032121e-01 -5.34518095e-01\n",
            "  -1.08687647e-01 -7.35724755e-01  1.14390141e+00  1.05804900e+00\n",
            "  -3.34164843e+00  1.63080569e+00  3.89588836e+00 -8.99061862e-01\n",
            "  -1.40549484e+00 -2.32085595e-01]\n",
            " [-1.03328631e+00  3.34376068e+00  3.60285980e+00  5.56451858e-01\n",
            "  -8.65820241e-01 -1.09510971e+00  3.07523834e+00 -1.95987557e+00\n",
            "  -1.25298293e+00 -3.93983129e-01 -1.44935177e+00 -3.61714302e+00\n",
            "   2.01144533e-02 -5.33158688e+00  5.35539464e-01 -1.47653258e+00\n",
            "   6.20889810e-01 -1.40685242e+00  4.04232082e+00 -1.51368773e+00\n",
            "  -4.17711321e+00 -4.03599404e+00  4.40225121e+00 -2.11172400e-01\n",
            "   6.38339827e-02 -1.84424763e+00  1.03687781e+00  2.37897849e+00\n",
            "  -1.10809541e+00  9.67634236e-01]\n",
            " [-1.22371331e+00  1.37318649e+00  2.71276273e+00 -2.15041528e+00\n",
            "   3.21383950e-01 -2.71869063e+00  3.94921657e-01 -1.27825896e+00\n",
            "   2.28445009e-03 -6.16066817e-01 -1.77951603e+00  1.56331490e+00\n",
            "  -2.26006321e+00 -1.02226130e+00  1.85657267e+00  4.30641211e-01\n",
            "   2.50151375e+00 -3.31310770e+00 -2.06502365e+00 -1.07969494e-02\n",
            "  -3.39372707e+00  5.33150530e-01 -3.38128344e+00  1.74361095e-01\n",
            "  -2.41709300e+00  3.14927453e+00 -2.66560783e+00  5.09995711e-01\n",
            "   3.47402559e+00  6.44723852e-01]\n",
            " [-2.48627095e+00 -2.40938054e+00  1.44118432e+00  2.79049519e+00\n",
            "  -9.10278015e-01 -2.77751420e+00  2.63801414e+00 -1.45492172e+00\n",
            "   4.00722640e-01 -2.54017339e+00  3.07145142e+00  7.54990107e-01\n",
            "  -1.57816555e+00  4.08462327e+00 -2.05403872e+00  2.38750335e+00\n",
            "  -3.45930967e+00  2.56703314e+00 -9.73175190e-01  4.10319298e+00\n",
            "  -1.98854597e+00  1.03567255e-01 -8.31604676e-01  2.11078434e+00\n",
            "   2.04922803e+00  9.57182903e-01 -1.81887399e-01 -1.25903832e+00\n",
            "  -1.33443349e+00  5.50848083e-01]\n",
            " [-1.59011146e+00 -5.34624273e+00 -1.32440591e+00 -1.43442281e+00\n",
            "  -2.29484305e+00 -1.08982094e+00 -3.13650262e+00 -1.58035769e+00\n",
            "  -1.06488037e+00 -2.51596518e+00 -3.80749591e+00 -1.18494061e+00\n",
            "  -1.19738445e+00 -4.88158965e+00 -1.61347539e+00 -4.50613280e-01\n",
            "  -2.98104180e+00  2.21987472e+00 -2.58350937e+00 -1.46863950e+00\n",
            "  -1.73899017e+00  2.92572486e+00  2.05611135e+00 -8.33708654e-01\n",
            "  -1.75415213e+00  4.50040620e+00 -2.38888609e+00  3.05996226e+00\n",
            "   1.14483019e-01 -5.69051989e-01]\n",
            " [-3.35494817e-01 -1.15751783e+00  4.69932505e-01 -2.42028830e+00\n",
            "   1.51160236e+00 -2.94847505e+00 -4.38294934e+00 -1.72638771e-01\n",
            "   3.84377828e-02  1.33792576e-01 -3.57153375e+00 -5.24149721e-01\n",
            "   1.62115319e+00  3.70121749e+00 -2.68199894e+00 -2.63721235e+00\n",
            "  -4.17352569e+00 -3.64960149e+00  1.25767855e+00 -2.27862889e+00\n",
            "  -1.46015076e-01 -5.39513304e-01  9.45921480e-01  1.81308219e-01\n",
            "   2.63970026e+00  1.59764859e+00 -4.73119070e+00 -3.05762700e-02\n",
            "   6.27531560e-02 -1.61423528e+00]]\n"
          ]
        }
      ]
    },
    {
      "cell_type": "code",
      "source": [
        "# part 3 - experiment with different hyper parameters\n",
        "#  epochs - 5, 15, 30, 60 (batch size 10, learning 3.0)\n",
        "#  batch - 5, 10, 50, 100 (epochs 30, learning 3.0)\n",
        "#  learning rate - 1.0, 3.0, 5.0 (epochs 30, batch size 10)"
      ],
      "metadata": {
        "id": "hd3TYzZ9_d4j"
      },
      "execution_count": null,
      "outputs": []
    }
  ]
}