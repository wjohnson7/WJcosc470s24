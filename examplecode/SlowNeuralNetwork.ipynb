{
  "nbformat": 4,
  "nbformat_minor": 0,
  "metadata": {
    "colab": {
      "provenance": [],
      "authorship_tag": "ABX9TyPizCL2hAqwunG2h+R+iQIS",
      "include_colab_link": true
    },
    "kernelspec": {
      "name": "python3",
      "display_name": "Python 3"
    },
    "language_info": {
      "name": "python"
    }
  },
  "cells": [
    {
      "cell_type": "markdown",
      "metadata": {
        "id": "view-in-github",
        "colab_type": "text"
      },
      "source": [
        "<a href=\"https://colab.research.google.com/github/kartoone/cosc470s24/blob/main/examplecode/SlowNeuralNetwork.ipynb\" target=\"_parent\"><img src=\"https://colab.research.google.com/assets/colab-badge.svg\" alt=\"Open In Colab\"/></a>"
      ]
    },
    {
      "cell_type": "code",
      "execution_count": null,
      "metadata": {
        "id": "zglt4nrG3BPJ"
      },
      "outputs": [],
      "source": [
        "from abc import abstractmethod\n",
        "class Neuron:\n",
        "  def __init__(self, w, b):\n",
        "    self.w = w\n",
        "    self.b = b\n",
        "\n",
        "  @abstractmethod\n",
        "  def output(self, x):\n",
        "    pass"
      ]
    },
    {
      "cell_type": "code",
      "source": [
        "from functools import reduce\n",
        "import math\n",
        "\n",
        "class Perceptron(Neuron):\n",
        "  def __init__(self, w, b):\n",
        "    super().__init__(w, b)\n",
        "\n",
        "  \"\"\"\n",
        "    x: list of inputs ... must be same length as w\n",
        "    return 0 or 1 based on classic perceptron calculation weighted sum of inputs plus bias must be strictly greater than 0 to produce a 1 otherwise return a 0\n",
        "  \"\"\"\n",
        "  def output(self, x):\n",
        "    z = 0\n",
        "    for i in range(len(self.w)):\n",
        "      z = z + self.w[i]*x[i]\n",
        "    z = z + self.b\n",
        "    return 0 if z <= 0 else 1\n",
        "    # alternative calculation for z using map-reduce instead\n",
        "    # z = reduce(lambda x, y: x+y, map(lambda x, y: x*y, self.w, x)) + self.b\n",
        "\n",
        "class SigmoidNeuron(Neuron):\n",
        "  def __init__(self, w, b):\n",
        "    super().__init__(w, b)\n",
        "\n",
        "  \"\"\"\n",
        "    x: list of inputs ... must be same length as w\n",
        "    return 0 or 1 based on classic perceptron calculation weighted sum of inputs plus bias must be strictly greater than 0 to produce a 1 otherwise return a 0\n",
        "  \"\"\"\n",
        "  def output(self, x):\n",
        "    z = 0\n",
        "    for i in range(len(self.w)):\n",
        "      z = z + self.w[i]*x[i]\n",
        "    z = z + self.b\n",
        "    return 1/(1+math.exp(-z))\n",
        "    # alternative calculation for z using map-reduce instead\n",
        "    # z = reduce(lambda x, y: x+y, map(lambda x, y: x*y, self.w, x)) + self.b\n"
      ],
      "metadata": {
        "id": "rq26eqX-6by9"
      },
      "execution_count": null,
      "outputs": []
    },
    {
      "cell_type": "code",
      "source": [
        "p = Perceptron([6, 2, 2], -5)\n",
        "out1 = p.output([1, 0, 0]) # weather is good ... should be 1\n",
        "out2 = p.output([0, 1, 1]) # weather is bad ... should be 0\n",
        "out3 = p.output([1, 1, 1]) # everything is perfect ... should most definitely go (note this will still only output a 1)\n",
        "print(out1)\n",
        "print(out2)\n",
        "print(out3)\n",
        "s = SigmoidNeuron([6, 2, 2], -5)\n",
        "out1 = s.output([1, 0, 0]) # weather is good ... should be 1\n",
        "out2 = s.output([0, 1, 1]) # weather is bad ... should be 0\n",
        "out3 = s.output([1, 1, 1]) # everything is perfect ... should most definitely go (note this will still only output a 1)\n",
        "print(out1)\n",
        "print(out2)\n",
        "print(out3)"
      ],
      "metadata": {
        "colab": {
          "base_uri": "https://localhost:8080/"
        },
        "id": "R4wppfauAR4e",
        "outputId": "33acc3af-510f-4769-a5d0-db17480a5514"
      },
      "execution_count": null,
      "outputs": [
        {
          "output_type": "stream",
          "name": "stdout",
          "text": [
            "1\n",
            "0\n",
            "1\n",
            "0.7310585786300049\n",
            "0.2689414213699951\n",
            "0.9933071490757153\n"
          ]
        }
      ]
    },
    {
      "cell_type": "code",
      "source": [
        "# To implement this as a true neural network\n",
        "# we would need to create several Perceptrons and/or SigmoidNeurons\n",
        "# and connect them together by having the output of neurons to the left\n",
        "# connected to the inputs of neurons to the right"
      ],
      "metadata": {
        "id": "qe7kw-KEiDa0"
      },
      "execution_count": null,
      "outputs": []
    }
  ]
}