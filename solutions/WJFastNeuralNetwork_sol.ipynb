{
  "nbformat": 4,
  "nbformat_minor": 0,
  "metadata": {
    "colab": {
      "provenance": [],
      "include_colab_link": true
    },
    "kernelspec": {
      "name": "python3",
      "display_name": "Python 3"
    },
    "language_info": {
      "name": "python"
    }
  },
  "cells": [
    {
      "cell_type": "markdown",
      "metadata": {
        "id": "view-in-github",
        "colab_type": "text"
      },
      "source": [
        "<a href=\"https://colab.research.google.com/github/wjohnson7/WJcosc470s24/blob/main/solutions/WJFastNeuralNetwork_sol.ipynb\" target=\"_parent\"><img src=\"https://colab.research.google.com/assets/colab-badge.svg\" alt=\"Open In Colab\"/></a>"
      ]
    },
    {
      "cell_type": "markdown",
      "source": [
        "The **Hello, world** of neural networks\n",
        "This code builds a simple neural network that can recognize handwritten 28x28 pixel digits.\n",
        "\n",
        "Our first version will have 15 neurons in the hidden layer and 10 output neurons.\n",
        "\n",
        "See image below:\n",
        "http://neuralnetworksanddeeplearning.com/images/tikz12.png\n",
        "\n",
        "How many weights in this network?\n",
        "11760 weights in the first layer (784 * 15) and 150 weights in the second layer (15 * 10) = 11910 weights total\n",
        "15 biases in the hidden layer and 10 biases in the output layer = 25 biases total.\n",
        "11910 + 25 = 11935 parameters!"
      ],
      "metadata": {
        "id": "X6OTVSJZLxzO"
      }
    },
    {
      "cell_type": "code",
      "execution_count": 28,
      "metadata": {
        "id": "NQQ0yjJ6LUBN",
        "colab": {
          "base_uri": "https://localhost:8080/"
        },
        "outputId": "e7edc7aa-53f8-4004-f2e4-710a5c0deaf9"
      },
      "outputs": [
        {
          "output_type": "stream",
          "name": "stdout",
          "text": [
            "Cloning into 'nn'...\n",
            "remote: Enumerating objects: 63, done.\u001b[K\n",
            "remote: Counting objects: 100% (8/8), done.\u001b[K\n",
            "remote: Compressing objects: 100% (8/8), done.\u001b[K\n",
            "remote: Total 63 (delta 1), reused 3 (delta 0), pack-reused 55\u001b[K\n",
            "Receiving objects: 100% (63/63), 16.43 MiB | 19.25 MiB/s, done.\n",
            "Resolving deltas: 100% (28/28), done.\n",
            "/content/nn/nn/nn\n"
          ]
        }
      ],
      "source": [
        "!git clone https://github.com/MichalDanielDobrzanski/DeepLearningPython nn\n",
        "%cd nn"
      ]
    },
    {
      "cell_type": "code",
      "source": [
        "# this code depends on having executed the previous cell\n",
        "# (i.e., you need to have cloned the nn code and cd'ed into it)\n",
        "import network\n",
        "import mnist_loader\n",
        "training_data, validation_data, test_data = mnist_loader.load_data_wrapper()\n",
        "training_data = list(training_data)\n",
        "test_data = list(test_data)\n"
      ],
      "metadata": {
        "id": "TY_GaewAIO1z"
      },
      "execution_count": 29,
      "outputs": []
    },
    {
      "cell_type": "code",
      "source": [
        "import numpy as np\n",
        "print(np.shape(training_data))\n",
        "print(np.shape(training_data[0][0]))\n",
        "print(np.shape(training_data[0][1]))\n",
        "print(training_data[0][1])"
      ],
      "metadata": {
        "colab": {
          "base_uri": "https://localhost:8080/"
        },
        "id": "5OCPyJhtQYtc",
        "outputId": "104b25c8-7e14-4ff9-8ce3-9a70ce8ac34e"
      },
      "execution_count": 30,
      "outputs": [
        {
          "output_type": "stream",
          "name": "stdout",
          "text": [
            "(50000, 2)\n",
            "(784, 1)\n",
            "(10, 1)\n",
            "[[0.]\n",
            " [0.]\n",
            " [0.]\n",
            " [0.]\n",
            " [0.]\n",
            " [1.]\n",
            " [0.]\n",
            " [0.]\n",
            " [0.]\n",
            " [0.]]\n"
          ]
        }
      ]
    },
    {
      "cell_type": "code",
      "source": [
        "# average digit darkness\n",
        "# step 1 - write a function that can calculate the darkness of a single image\n",
        "def image_darkness(imgpixeldata):\n",
        "  darkness_total = 0\n",
        "  for x in imgpixeldata:\n",
        "    darkness_total = darkness_total + x\n",
        "  return darkness_total[0]\n",
        "\n",
        "# step 2 - call that function on all the training images and calculate the average darkness of each digit\n",
        "darkness = image_darkness(training_data[0][0])\n",
        "whichimage = np.argmax(training_data[0][1])\n",
        "print(f\"The first image was a {whichimage} and its darkness was {darkness}\")\n",
        "darkness = image_darkness(training_data[1][0])\n",
        "whichimage = np.argmax(training_data[1][1])\n",
        "print(f\"The second image was a {whichimage} and its darkness was {darkness}\")\n",
        "\n",
        "# There are 10 darkness totals since there are 10 possible digits (0 through 9) to give a darkness value\n",
        "\n",
        "# define a 10-element list of darkness totals\n",
        "darkness_totals = [0 for _ in range(10)]\n",
        "# define a 10-element list of digit counts\n",
        "darkness_counts = [0 for _ in range(10)]\n",
        "\n",
        "# iterate through each image and update the two data structures\n",
        "for training_img in training_data:\n",
        "  darkness = image_darkness(training_img[0]) # replace this with the correct function call!\n",
        "  whichimage = np.argmax(training_img[1])\n",
        "  darkness_totals[whichimage] += darkness\n",
        "  darkness_counts[whichimage] += 1\n",
        "\n",
        "# now calculate the averages\n",
        "darkness_averages = [darkness_totals[i]/darkness_counts[i] for i in range(10)]\n",
        "\n",
        "print(darkness_counts)\n",
        "print(darkness_averages)\n",
        "\n",
        "# step 3 - use those averages to classify all the test data images and count how many of each digit you get right\n",
        "def find_closest(darkness, darkness_averages):\n",
        "  # add code here that determines which average was closest to darkness\n",
        "\n",
        "  closest_num = min(range(len(darkness_averages)), key=lambda i: abs(darkness_averages[i] - darkness))\n",
        "  return closest_num\n",
        "\n",
        "correct_counts = [0 for _ in range(10)]\n",
        "wrong_counts = [0 for _ in range(10)]\n",
        "\n",
        "for imgdata, whichimage in test_data:\n",
        "  darkness = image_darkness(imgdata)\n",
        "  # see which darkness_average is closest to \"darkness\" and make that our classification for this image\n",
        "  closest_digit = find_closest(darkness, darkness_averages)\n",
        "  if closest_digit == whichimage:\n",
        "    correct_counts[whichimage] += 1\n",
        "  else:\n",
        "    wrong_counts[whichimage] += 1\n",
        "\n",
        "# now that we have our correct/wrong counts, turn that into accuracies\n",
        "digit_accuracies = [correct_counts[i]/(correct_counts[i]+wrong_counts[i]) for i in range(10)]\n",
        "print(digit_accuracies)"
      ],
      "metadata": {
        "colab": {
          "base_uri": "https://localhost:8080/"
        },
        "id": "xiMrbkucJPL9",
        "outputId": "39135399-cf77-4c0f-f7c6-c823359cd147"
      },
      "execution_count": 31,
      "outputs": [
        {
          "output_type": "stream",
          "name": "stdout",
          "text": [
            "The first image was a 5 and its darkness was 107.51953125\n",
            "The second image was a 0 and its darkness was 121.46484375\n",
            "[4932, 5678, 4968, 5101, 4859, 4506, 4951, 5175, 4842, 4988]\n",
            "[135.8691200324412, 59.66034750352237, 116.294303857186, 110.87092451235051, 95.22073970338548, 100.34646166222814, 107.38312020298929, 89.8788345410628, 117.88056410703221, 96.0455585592923]\n",
            "[0.5418367346938775, 0.8290748898678414, 0.04844961240310078, 0.048514851485148516, 0.048879837067209775, 0.0795964125560538, 0.06576200417536535, 0.28793774319066145, 0.13655030800821355, 0.04261645193260654]\n"
          ]
        }
      ]
    },
    {
      "cell_type": "code",
      "source": [
        "print(np.shape(test_data))\n",
        "print(np.shape(test_data[0]))\n",
        "print(test_data[0][1])\n"
      ],
      "metadata": {
        "colab": {
          "base_uri": "https://localhost:8080/"
        },
        "id": "vRcQD33wRB1c",
        "outputId": "a4b6a9cb-3208-4bab-da23-18b92093904b"
      },
      "execution_count": 32,
      "outputs": [
        {
          "output_type": "stream",
          "name": "stdout",
          "text": [
            "(10000, 2)\n",
            "(2,)\n",
            "7\n"
          ]
        }
      ]
    },
    {
      "cell_type": "code",
      "source": [
        "# part 2 - use this default configuration and the following hyper-parameters\n",
        "#    epochs - 30\n",
        "#    batch size - 10\n",
        "#    learning rate - 3.0\n",
        "net = network.Network([784, 30, 10])\n",
        "net.SGD(training_data, 30, 10, 3.0, test_data=test_data)\n"
      ],
      "metadata": {
        "colab": {
          "base_uri": "https://localhost:8080/"
        },
        "id": "V3qm9cgIQ2rh",
        "outputId": "19085c0d-a981-48b1-d81f-a4800f5dde35"
      },
      "execution_count": 33,
      "outputs": [
        {
          "output_type": "stream",
          "name": "stdout",
          "text": [
            "Epoch 0 : 9093 / 10000\n",
            "Epoch 1 : 9245 / 10000\n",
            "Epoch 2 : 9323 / 10000\n",
            "Epoch 3 : 9331 / 10000\n",
            "Epoch 4 : 9321 / 10000\n",
            "Epoch 5 : 9378 / 10000\n",
            "Epoch 6 : 9453 / 10000\n",
            "Epoch 7 : 9429 / 10000\n",
            "Epoch 8 : 9436 / 10000\n",
            "Epoch 9 : 9465 / 10000\n",
            "Epoch 10 : 9459 / 10000\n",
            "Epoch 11 : 9473 / 10000\n",
            "Epoch 12 : 9461 / 10000\n",
            "Epoch 13 : 9471 / 10000\n",
            "Epoch 14 : 9483 / 10000\n",
            "Epoch 15 : 9465 / 10000\n",
            "Epoch 16 : 9480 / 10000\n",
            "Epoch 17 : 9484 / 10000\n",
            "Epoch 18 : 9475 / 10000\n",
            "Epoch 19 : 9477 / 10000\n",
            "Epoch 20 : 9500 / 10000\n",
            "Epoch 21 : 9507 / 10000\n",
            "Epoch 22 : 9513 / 10000\n",
            "Epoch 23 : 9509 / 10000\n",
            "Epoch 24 : 9499 / 10000\n",
            "Epoch 25 : 9504 / 10000\n",
            "Epoch 26 : 9486 / 10000\n",
            "Epoch 27 : 9480 / 10000\n",
            "Epoch 28 : 9483 / 10000\n",
            "Epoch 29 : 9507 / 10000\n"
          ]
        }
      ]
    },
    {
      "cell_type": "code",
      "source": [
        "import numpy as np\n",
        "a = net.feedforward(test_data[2][0])\n",
        "print(a)\n",
        "print(np.argmax(a))\n",
        "print(test_data[2][1])\n",
        "\n",
        "# per digit accuracies\n",
        "# loop through the test data again\n",
        "# calculate how many of each digit was classified correctly\n",
        "\n",
        "correct_counts = [0 for _ in range(10)]\n",
        "digit_counts = [0 for _ in range(10)]\n",
        "\n",
        "for (x, y) in test_data:\n",
        "  a = np.argmax(net.feedforward(x))\n",
        "  if a == y:\n",
        "    correct_counts[y] += 1\n",
        "  digit_counts[y] += 1\n",
        "\n",
        "print(correct_counts)\n",
        "print(digit_counts)\n",
        "accuracies = [correct_counts[i]/digit_counts[i] for i in range(10)]\n",
        "print(accuracies)"
      ],
      "metadata": {
        "colab": {
          "base_uri": "https://localhost:8080/"
        },
        "id": "LPbCl_Rio5bK",
        "outputId": "842ce501-ef75-4d39-e398-b2079dec1516"
      },
      "execution_count": 34,
      "outputs": [
        {
          "output_type": "stream",
          "name": "stdout",
          "text": [
            "[[1.09269769e-13]\n",
            " [9.94890298e-01]\n",
            " [2.72000819e-05]\n",
            " [5.49964814e-06]\n",
            " [9.99790078e-07]\n",
            " [1.22862094e-09]\n",
            " [7.43201316e-05]\n",
            " [2.44322877e-07]\n",
            " [7.64201328e-06]\n",
            " [1.29045532e-09]]\n",
            "1\n",
            "1\n",
            "[954, 1115, 968, 953, 948, 834, 924, 979, 901, 931]\n",
            "[980, 1135, 1032, 1010, 982, 892, 958, 1028, 974, 1009]\n",
            "[0.9734693877551021, 0.9823788546255506, 0.937984496124031, 0.9435643564356435, 0.9653767820773931, 0.9349775784753364, 0.964509394572025, 0.9523346303501945, 0.9250513347022588, 0.9226957383548068]\n"
          ]
        }
      ]
    },
    {
      "cell_type": "code",
      "source": [
        "import matplotlib.pyplot as plt\n",
        "fig = plt.figure(figsize = (10, 5))\n",
        " # creating the bar plot\n",
        "plt.bar(range(0,10), accuracies, color ='maroon',\n",
        "        width = 0.4)\n",
        "plt.xlabel(\"Digit\")\n",
        "plt.ylabel(\"Accuracy\")\n",
        "plt.title(\"Per digit accuracy for standard hyperparams\")\n",
        "plt.show()"
      ],
      "metadata": {
        "colab": {
          "base_uri": "https://localhost:8080/",
          "height": 487
        },
        "id": "T9P4DXeSBlAK",
        "outputId": "bcde2fb9-b970-405b-99fd-011282590fff"
      },
      "execution_count": 35,
      "outputs": [
        {
          "output_type": "display_data",
          "data": {
            "text/plain": [
              "<Figure size 1000x500 with 1 Axes>"
            ],
            "image/png": "[encoded data removed]"
          },
          "metadata": {}
        }
      ]
    },
    {
      "cell_type": "code",
      "source": [
        "print(np.shape(net.weights[0]))\n",
        "print(net.weights[0])"
      ],
      "metadata": {
        "colab": {
          "base_uri": "https://localhost:8080/"
        },
        "id": "-adILgnNKqe9",
        "outputId": "c1efee76-38f2-4371-b69f-dbe8d1bce974"
      },
      "execution_count": 36,
      "outputs": [
        {
          "output_type": "stream",
          "name": "stdout",
          "text": [
            "(30, 784)\n",
            "[[-0.37062729 -0.10022829  0.22968335 ...  0.19421188 -0.86612892\n",
            "   2.28841653]\n",
            " [-1.11197709 -0.0505963   0.72912533 ...  1.74702212  0.35462244\n",
            "   0.38667676]\n",
            " [ 2.27629184 -0.13393638  0.41877923 ...  0.88620006  1.43637424\n",
            "   0.27219334]\n",
            " ...\n",
            " [ 0.37911043  0.90834907 -0.06892053 ... -1.78144084 -0.09661328\n",
            "  -0.15226921]\n",
            " [ 1.67249537  0.42417291 -0.39935919 ... -0.88975857  2.46417721\n",
            "   0.66327784]\n",
            " [-0.56045878  0.22701874  1.30833168 ...  0.83203603  0.08296062\n",
            "   0.17970083]]\n"
          ]
        }
      ]
    },
    {
      "cell_type": "code",
      "source": [
        "print(np.shape(net.weights[1]))\n",
        "print(net.weights[1])"
      ],
      "metadata": {
        "colab": {
          "base_uri": "https://localhost:8080/"
        },
        "id": "3HFpBqj4MJWh",
        "outputId": "fd1480f7-90b4-4611-ee24-14d8fa08fd31"
      },
      "execution_count": 37,
      "outputs": [
        {
          "output_type": "stream",
          "name": "stdout",
          "text": [
            "(10, 30)\n",
            "[[-4.17644949e+00 -6.13875357e+00 -3.43494857e+00 -3.24229954e+00\n",
            "  -6.32732028e-01 -1.50800864e+00 -3.28058723e-01  4.84228678e-01\n",
            "   4.94050733e+00  3.32965575e+00  2.61630044e+00  1.50092437e+00\n",
            "   1.84135592e+00 -4.02197742e+00 -1.51253730e+00 -3.69064957e+00\n",
            "  -3.11130951e+00 -1.34185793e+00  1.60264917e+00  4.01376056e+00\n",
            "  -4.42742712e+00 -1.24275883e+00 -1.23060059e+00 -3.98923647e+00\n",
            "  -2.92143352e+00 -1.09585240e+00  5.20486148e+00  2.66736233e+00\n",
            "  -5.77942080e+00  1.46635688e+00]\n",
            " [-6.29930467e+00 -1.26711790e+00  3.28807078e+00  4.60076322e+00\n",
            "   4.87537965e+00  3.52075671e+00 -3.83225536e-02 -1.32283253e+00\n",
            "   3.97076507e+00 -3.83800115e+00 -2.51352620e+00  2.30990983e+00\n",
            "  -1.11480979e+00 -1.53982051e-01  2.67212594e-01  2.42821618e+00\n",
            "  -1.57090511e+00 -3.49070630e+00 -2.55855415e+00  9.90789707e-01\n",
            "   9.19333245e-01 -4.26578620e-01  2.94470546e-01 -2.54902980e+00\n",
            "   3.21994042e+00  1.53408813e+00  3.11029606e+00  3.86519626e+00\n",
            "  -3.48295684e+00 -3.06312231e+00]\n",
            " [ 2.68034647e+00 -8.63298337e+00  1.93166477e-01 -7.33230676e+00\n",
            "  -1.75734488e+00 -2.76124785e+00  5.12208327e-01  3.20174865e-01\n",
            "   2.19752143e+00  2.07975006e+00 -4.71436499e+00 -4.73474696e+00\n",
            "  -3.07585168e+00  2.59647226e+00  1.40522441e+00 -4.28110364e+00\n",
            "  -9.08742730e-01  3.63019999e+00  1.73303111e+00 -4.31619639e+00\n",
            "  -3.71749306e+00 -9.78916353e-01  2.80558219e+00 -3.01168633e+00\n",
            "   3.80534056e+00  1.90377430e+00  4.21359881e-01 -5.65810527e-01\n",
            "  -8.32439425e-01 -4.59527392e+00]\n",
            " [ 6.86879144e-01  3.20863796e+00  4.30802492e+00 -4.53376046e+00\n",
            "  -4.85737363e+00  3.95881204e+00 -2.55334653e+00  3.99434708e+00\n",
            "  -4.89846655e+00  4.60301689e+00 -6.88431365e-01  5.90795170e+00\n",
            "   1.09234303e+00  2.22220470e+00  3.72774621e+00 -1.54502462e+00\n",
            "  -6.04666039e+00 -9.53049206e-01 -8.60442296e+00  3.35331475e+00\n",
            "   9.89956181e-02  1.62134477e+00 -4.66104880e+00  6.62530138e-01\n",
            "   4.18733677e+00 -2.23760625e+00 -9.17241429e-01 -4.96314309e-01\n",
            "  -6.58796487e+00  6.99343136e-01]\n",
            " [-6.75111690e+00  1.51304857e+00  1.40934350e-01  6.06530087e-01\n",
            "   5.38138982e+00  3.51538680e+00  3.55284070e+00 -2.88093364e+00\n",
            "   2.72918456e-01  1.27269397e+00 -1.36016015e-01 -8.98872334e-01\n",
            "  -1.77054018e+00 -2.92948984e+00 -2.58035678e+00  3.04894324e+00\n",
            "  -3.10281825e+00  4.91371810e+00  2.25863336e+00 -3.49194746e+00\n",
            "  -1.54112612e+00  4.31095763e+00 -1.07657871e+00 -4.60753718e+00\n",
            "  -4.60794207e-02 -6.61719712e+00 -3.57171292e+00 -5.05929138e+00\n",
            "  -2.79202233e+00  6.51448744e+00]\n",
            " [ 4.24306239e+00 -4.16798654e-01 -7.94258863e+00  4.71082496e+00\n",
            "  -2.65029979e+00 -2.11115103e+00  2.31708419e+00  4.23449202e+00\n",
            "  -1.01264072e+01 -5.09070428e+00 -1.78410455e+00  1.84612167e+00\n",
            "   1.58037833e+00 -1.86512553e+00 -2.33929236e+00 -4.09948326e-01\n",
            "   1.97466827e+00 -1.98174390e+00 -4.33467248e+00 -1.13759141e+00\n",
            "  -7.30555987e+00 -2.95232644e+00 -1.42834448e+00 -9.74912666e-01\n",
            "  -4.76653491e+00 -1.84654025e-02 -4.58192640e+00 -7.26842238e-01\n",
            "   2.78125361e+00 -4.89486666e+00]\n",
            " [-1.92619771e-03 -3.76961738e+00 -3.35624126e+00  3.71883453e+00\n",
            "   1.56643999e+00  2.27327844e+00 -2.60428426e+00 -5.31346916e+00\n",
            "  -4.26162068e+00 -1.84031041e+00  4.43985608e+00 -2.28867848e+00\n",
            "  -1.75299309e+00  3.63235593e+00 -2.13039810e+00  2.32792915e+00\n",
            "  -5.77778391e+00  1.12953077e+00  8.73845613e-02  2.28457785e+00\n",
            "   9.89447242e-01  9.69248737e-01 -4.94639622e-01 -1.25711859e+00\n",
            "  -6.04539190e+00  5.08426773e+00  4.49061341e+00 -3.50506061e+00\n",
            "  -3.76741705e+00  2.07070540e+00]\n",
            " [-2.67795834e-01 -3.36995814e+00  1.78335407e-01 -9.33121028e-01\n",
            "   2.95765859e+00 -1.03327381e+00  2.81265839e+00 -3.04122372e+00\n",
            "  -7.82985861e-01 -7.93562789e-01 -6.45608029e-02  3.59250339e+00\n",
            "  -4.93604901e+00  1.71777052e-01  3.86620582e+00 -3.51271634e+00\n",
            "  -5.49595528e+00 -3.90657074e+00  6.43517883e+00  3.97177551e+00\n",
            "   1.17654825e+00  1.81091705e+00  8.93521162e-01  7.43497080e+00\n",
            "  -1.11337191e+00 -5.30007269e+00 -2.68465679e+00 -1.01016817e+00\n",
            "  -3.60264348e+00  9.42830200e-01]\n",
            " [ 5.11781264e+00 -1.11564648e+00 -1.13965692e+00 -3.30122422e+00\n",
            "  -5.54989524e+00 -3.24769525e+00  5.93105699e-01 -5.07274116e+00\n",
            "  -4.35651795e+00  2.49309120e+00 -2.96011282e+00  3.53252320e+00\n",
            "   4.23744205e+00  6.57792420e-01  8.89886001e-01  3.26547837e+00\n",
            "  -8.96924308e+00 -5.78268441e+00 -1.48378401e+00 -2.74254573e+00\n",
            "   2.85911783e+00  2.62341689e+00  3.11573272e+00 -4.64202782e+00\n",
            "  -5.58819246e+00 -1.84775620e+00  4.16103790e+00  1.27126067e-01\n",
            "  -7.46732712e+00  4.26082544e+00]\n",
            " [ 1.08026594e+00  3.69147676e+00  5.04229882e-01  8.99951462e-01\n",
            "  -5.28552748e+00 -3.34290909e+00 -5.12831083e+00 -4.42489349e+00\n",
            "  -4.85974134e-01 -2.77296260e-01  1.12420809e+00 -5.15033611e-01\n",
            "   7.28643890e+00 -2.97966138e+00 -7.20142486e+00  2.51965236e+00\n",
            "  -5.96544611e+00  4.16853762e+00  8.97010437e-01 -2.82747698e+00\n",
            "   1.70337305e+00 -3.71051548e+00 -9.64793884e-02  3.18813410e+00\n",
            "  -4.57120259e-01 -2.76188972e+00 -5.72356957e-01  6.02357583e+00\n",
            "  -4.73719353e+00  1.19442703e+00]]\n"
          ]
        }
      ]
    },
    {
      "cell_type": "code",
      "source": [
        "# part 3 - experiment with different hyper parameters\n",
        "#  epochs - 5, 15, 30, 60 (batch size 10, learning 3.0)\n",
        "#  batch - 5, 10, 50, 100 (epochs 30, learning 3.0)\n",
        "#  learning rate - 1.0, 3.0, 5.0 (epochs 30, batch size 10)\n",
        "net = network.Network([784, 30, 10])\n",
        "net.SGD(training_data, 5, 10, 3.0, test_data=test_data)"
      ],
      "metadata": {
        "id": "hd3TYzZ9_d4j",
        "outputId": "2a9cdff7-e9fa-4446-d1ab-4a987f1bb2fc",
        "colab": {
          "base_uri": "https://localhost:8080/"
        }
      },
      "execution_count": 38,
      "outputs": [
        {
          "output_type": "stream",
          "name": "stdout",
          "text": [
            "Epoch 0 : 9070 / 10000\n",
            "Epoch 1 : 9208 / 10000\n",
            "Epoch 2 : 9296 / 10000\n",
            "Epoch 3 : 9339 / 10000\n",
            "Epoch 4 : 9384 / 10000\n"
          ]
        }
      ]
    },
    {
      "cell_type": "code",
      "source": [
        "net = network.Network([784, 30, 10])\n",
        "net.SGD(training_data, 15, 10, 3.0, test_data=test_data)"
      ],
      "metadata": {
        "id": "KbyERKImOQtf",
        "outputId": "8315bdaf-8609-4586-c3d7-2f779ad9c2b3",
        "colab": {
          "base_uri": "https://localhost:8080/"
        }
      },
      "execution_count": 39,
      "outputs": [
        {
          "output_type": "stream",
          "name": "stdout",
          "text": [
            "Epoch 0 : 9067 / 10000\n",
            "Epoch 1 : 9291 / 10000\n",
            "Epoch 2 : 9369 / 10000\n",
            "Epoch 3 : 9314 / 10000\n",
            "Epoch 4 : 9409 / 10000\n",
            "Epoch 5 : 9430 / 10000\n",
            "Epoch 6 : 9433 / 10000\n",
            "Epoch 7 : 9428 / 10000\n",
            "Epoch 8 : 9415 / 10000\n",
            "Epoch 9 : 9465 / 10000\n",
            "Epoch 10 : 9469 / 10000\n",
            "Epoch 11 : 9482 / 10000\n",
            "Epoch 12 : 9492 / 10000\n",
            "Epoch 13 : 9474 / 10000\n",
            "Epoch 14 : 9487 / 10000\n"
          ]
        }
      ]
    },
    {
      "cell_type": "code",
      "source": [
        "net = network.Network([784, 30, 10])\n",
        "net.SGD(training_data, 30, 10, 3.0, test_data=test_data)"
      ],
      "metadata": {
        "id": "xGLL2cYTOqlS",
        "outputId": "8f5a8357-f5ed-4b0a-cc00-c5c2ed8bf011",
        "colab": {
          "base_uri": "https://localhost:8080/"
        }
      },
      "execution_count": 40,
      "outputs": [
        {
          "output_type": "stream",
          "name": "stdout",
          "text": [
            "Epoch 0 : 8302 / 10000\n",
            "Epoch 1 : 8434 / 10000\n",
            "Epoch 2 : 9197 / 10000\n",
            "Epoch 3 : 9319 / 10000\n",
            "Epoch 4 : 9383 / 10000\n",
            "Epoch 5 : 9422 / 10000\n",
            "Epoch 6 : 9368 / 10000\n",
            "Epoch 7 : 9412 / 10000\n",
            "Epoch 8 : 9472 / 10000\n",
            "Epoch 9 : 9413 / 10000\n",
            "Epoch 10 : 9452 / 10000\n",
            "Epoch 11 : 9463 / 10000\n",
            "Epoch 12 : 9449 / 10000\n",
            "Epoch 13 : 9467 / 10000\n",
            "Epoch 14 : 9497 / 10000\n",
            "Epoch 15 : 9485 / 10000\n",
            "Epoch 16 : 9496 / 10000\n",
            "Epoch 17 : 9470 / 10000\n",
            "Epoch 18 : 9475 / 10000\n",
            "Epoch 19 : 9487 / 10000\n",
            "Epoch 20 : 9466 / 10000\n",
            "Epoch 21 : 9491 / 10000\n",
            "Epoch 22 : 9488 / 10000\n",
            "Epoch 23 : 9508 / 10000\n",
            "Epoch 24 : 9498 / 10000\n",
            "Epoch 25 : 9497 / 10000\n",
            "Epoch 26 : 9488 / 10000\n",
            "Epoch 27 : 9468 / 10000\n",
            "Epoch 28 : 9483 / 10000\n",
            "Epoch 29 : 9479 / 10000\n"
          ]
        }
      ]
    },
    {
      "cell_type": "code",
      "source": [
        "net = network.Network([784, 30, 10])\n",
        "net.SGD(training_data, 60, 10, 3.0, test_data=test_data)"
      ],
      "metadata": {
        "id": "QHwGt3ahOqs-",
        "outputId": "19cc5715-3c9f-48f7-90dd-7ea6a95a0592",
        "colab": {
          "base_uri": "https://localhost:8080/"
        }
      },
      "execution_count": 41,
      "outputs": [
        {
          "output_type": "stream",
          "name": "stdout",
          "text": [
            "Epoch 0 : 9133 / 10000\n",
            "Epoch 1 : 9254 / 10000\n",
            "Epoch 2 : 9330 / 10000\n",
            "Epoch 3 : 9354 / 10000\n",
            "Epoch 4 : 9386 / 10000\n",
            "Epoch 5 : 9348 / 10000\n",
            "Epoch 6 : 9404 / 10000\n",
            "Epoch 7 : 9432 / 10000\n",
            "Epoch 8 : 9420 / 10000\n",
            "Epoch 9 : 9496 / 10000\n",
            "Epoch 10 : 9456 / 10000\n",
            "Epoch 11 : 9476 / 10000\n",
            "Epoch 12 : 9468 / 10000\n",
            "Epoch 13 : 9465 / 10000\n",
            "Epoch 14 : 9484 / 10000\n",
            "Epoch 15 : 9467 / 10000\n",
            "Epoch 16 : 9495 / 10000\n",
            "Epoch 17 : 9472 / 10000\n",
            "Epoch 18 : 9482 / 10000\n",
            "Epoch 19 : 9506 / 10000\n",
            "Epoch 20 : 9464 / 10000\n",
            "Epoch 21 : 9503 / 10000\n",
            "Epoch 22 : 9454 / 10000\n",
            "Epoch 23 : 9479 / 10000\n",
            "Epoch 24 : 9507 / 10000\n",
            "Epoch 25 : 9501 / 10000\n",
            "Epoch 26 : 9483 / 10000\n",
            "Epoch 27 : 9498 / 10000\n",
            "Epoch 28 : 9481 / 10000\n",
            "Epoch 29 : 9503 / 10000\n",
            "Epoch 30 : 9520 / 10000\n",
            "Epoch 31 : 9474 / 10000\n",
            "Epoch 32 : 9513 / 10000\n",
            "Epoch 33 : 9499 / 10000\n",
            "Epoch 34 : 9497 / 10000\n",
            "Epoch 35 : 9506 / 10000\n",
            "Epoch 36 : 9507 / 10000\n",
            "Epoch 37 : 9497 / 10000\n",
            "Epoch 38 : 9498 / 10000\n",
            "Epoch 39 : 9501 / 10000\n",
            "Epoch 40 : 9499 / 10000\n",
            "Epoch 41 : 9510 / 10000\n",
            "Epoch 42 : 9506 / 10000\n",
            "Epoch 43 : 9496 / 10000\n",
            "Epoch 44 : 9510 / 10000\n",
            "Epoch 45 : 9507 / 10000\n",
            "Epoch 46 : 9485 / 10000\n",
            "Epoch 47 : 9498 / 10000\n",
            "Epoch 48 : 9489 / 10000\n",
            "Epoch 49 : 9492 / 10000\n",
            "Epoch 50 : 9488 / 10000\n",
            "Epoch 51 : 9486 / 10000\n",
            "Epoch 52 : 9492 / 10000\n",
            "Epoch 53 : 9487 / 10000\n",
            "Epoch 54 : 9489 / 10000\n",
            "Epoch 55 : 9485 / 10000\n",
            "Epoch 56 : 9488 / 10000\n",
            "Epoch 57 : 9499 / 10000\n",
            "Epoch 58 : 9506 / 10000\n",
            "Epoch 59 : 9507 / 10000\n"
          ]
        }
      ]
    },
    {
      "cell_type": "code",
      "source": [
        "net = network.Network([784, 30, 10])\n",
        "net.SGD(training_data, 30, 5, 3.0, test_data=test_data)"
      ],
      "metadata": {
        "id": "ow1Uj_ujOrTJ",
        "outputId": "4be42acb-315c-40af-c014-ab57e9e41f7c",
        "colab": {
          "base_uri": "https://localhost:8080/"
        }
      },
      "execution_count": 42,
      "outputs": [
        {
          "output_type": "stream",
          "name": "stdout",
          "text": [
            "Epoch 0 : 9160 / 10000\n",
            "Epoch 1 : 9234 / 10000\n",
            "Epoch 2 : 9273 / 10000\n",
            "Epoch 3 : 9378 / 10000\n",
            "Epoch 4 : 9398 / 10000\n",
            "Epoch 5 : 9388 / 10000\n",
            "Epoch 6 : 9419 / 10000\n",
            "Epoch 7 : 9421 / 10000\n",
            "Epoch 8 : 9416 / 10000\n",
            "Epoch 9 : 9467 / 10000\n",
            "Epoch 10 : 9403 / 10000\n",
            "Epoch 11 : 9461 / 10000\n",
            "Epoch 12 : 9458 / 10000\n",
            "Epoch 13 : 9484 / 10000\n",
            "Epoch 14 : 9452 / 10000\n",
            "Epoch 15 : 9498 / 10000\n",
            "Epoch 16 : 9486 / 10000\n",
            "Epoch 17 : 9495 / 10000\n",
            "Epoch 18 : 9449 / 10000\n",
            "Epoch 19 : 9473 / 10000\n",
            "Epoch 20 : 9505 / 10000\n",
            "Epoch 21 : 9483 / 10000\n",
            "Epoch 22 : 9455 / 10000\n",
            "Epoch 23 : 9465 / 10000\n",
            "Epoch 24 : 9471 / 10000\n",
            "Epoch 25 : 9505 / 10000\n",
            "Epoch 26 : 9506 / 10000\n",
            "Epoch 27 : 9506 / 10000\n",
            "Epoch 28 : 9510 / 10000\n",
            "Epoch 29 : 9465 / 10000\n"
          ]
        }
      ]
    },
    {
      "cell_type": "code",
      "source": [
        "net = network.Network([784, 30, 10])\n",
        "net.SGD(training_data, 30, 10, 3.0, test_data=test_data)"
      ],
      "metadata": {
        "id": "P2cFpbMAOsKw",
        "outputId": "ff351db0-46c5-4bb2-eed7-f71d99b4da3a",
        "colab": {
          "base_uri": "https://localhost:8080/"
        }
      },
      "execution_count": 43,
      "outputs": [
        {
          "output_type": "stream",
          "name": "stdout",
          "text": [
            "Epoch 0 : 9081 / 10000\n",
            "Epoch 1 : 9200 / 10000\n",
            "Epoch 2 : 9286 / 10000\n",
            "Epoch 3 : 9309 / 10000\n",
            "Epoch 4 : 9359 / 10000\n",
            "Epoch 5 : 9396 / 10000\n",
            "Epoch 6 : 9413 / 10000\n",
            "Epoch 7 : 9424 / 10000\n",
            "Epoch 8 : 9415 / 10000\n",
            "Epoch 9 : 9404 / 10000\n",
            "Epoch 10 : 9425 / 10000\n",
            "Epoch 11 : 9430 / 10000\n",
            "Epoch 12 : 9449 / 10000\n",
            "Epoch 13 : 9427 / 10000\n",
            "Epoch 14 : 9453 / 10000\n",
            "Epoch 15 : 9453 / 10000\n",
            "Epoch 16 : 9473 / 10000\n",
            "Epoch 17 : 9441 / 10000\n",
            "Epoch 18 : 9476 / 10000\n",
            "Epoch 19 : 9493 / 10000\n",
            "Epoch 20 : 9438 / 10000\n",
            "Epoch 21 : 9475 / 10000\n",
            "Epoch 22 : 9467 / 10000\n",
            "Epoch 23 : 9488 / 10000\n",
            "Epoch 24 : 9483 / 10000\n",
            "Epoch 25 : 9466 / 10000\n",
            "Epoch 26 : 9496 / 10000\n",
            "Epoch 27 : 9494 / 10000\n",
            "Epoch 28 : 9507 / 10000\n",
            "Epoch 29 : 9493 / 10000\n"
          ]
        }
      ]
    },
    {
      "cell_type": "code",
      "source": [
        "net = network.Network([784, 30, 10])\n",
        "net.SGD(training_data, 30, 50, 3.0, test_data=test_data)"
      ],
      "metadata": {
        "id": "YOzCFu-mOsTu",
        "outputId": "481ca43f-bbc8-482e-da81-b153aa297afd",
        "colab": {
          "base_uri": "https://localhost:8080/"
        }
      },
      "execution_count": 44,
      "outputs": [
        {
          "output_type": "stream",
          "name": "stdout",
          "text": [
            "Epoch 0 : 7718 / 10000\n",
            "Epoch 1 : 8045 / 10000\n",
            "Epoch 2 : 8152 / 10000\n",
            "Epoch 3 : 8219 / 10000\n",
            "Epoch 4 : 8276 / 10000\n",
            "Epoch 5 : 8298 / 10000\n",
            "Epoch 6 : 8334 / 10000\n",
            "Epoch 7 : 8363 / 10000\n",
            "Epoch 8 : 8359 / 10000\n",
            "Epoch 9 : 8379 / 10000\n",
            "Epoch 10 : 8420 / 10000\n",
            "Epoch 11 : 8404 / 10000\n",
            "Epoch 12 : 8412 / 10000\n",
            "Epoch 13 : 8443 / 10000\n",
            "Epoch 14 : 8435 / 10000\n",
            "Epoch 15 : 8460 / 10000\n",
            "Epoch 16 : 8470 / 10000\n",
            "Epoch 17 : 8462 / 10000\n",
            "Epoch 18 : 8487 / 10000\n",
            "Epoch 19 : 8482 / 10000\n",
            "Epoch 20 : 8489 / 10000\n",
            "Epoch 21 : 8494 / 10000\n",
            "Epoch 22 : 8513 / 10000\n",
            "Epoch 23 : 8503 / 10000\n",
            "Epoch 24 : 8596 / 10000\n",
            "Epoch 25 : 9361 / 10000\n",
            "Epoch 26 : 9373 / 10000\n",
            "Epoch 27 : 9390 / 10000\n",
            "Epoch 28 : 9385 / 10000\n",
            "Epoch 29 : 9399 / 10000\n"
          ]
        }
      ]
    },
    {
      "cell_type": "code",
      "source": [
        "net = network.Network([784, 30, 10])\n",
        "net.SGD(training_data, 30, 100, 3.0, test_data=test_data)"
      ],
      "metadata": {
        "id": "omhNhf8kOsbc",
        "outputId": "260ddc45-27a9-41ea-c515-c1d79d35a85f",
        "colab": {
          "base_uri": "https://localhost:8080/"
        }
      },
      "execution_count": 45,
      "outputs": [
        {
          "output_type": "stream",
          "name": "stdout",
          "text": [
            "Epoch 0 : 6325 / 10000\n",
            "Epoch 1 : 8269 / 10000\n",
            "Epoch 2 : 8641 / 10000\n",
            "Epoch 3 : 8823 / 10000\n",
            "Epoch 4 : 8970 / 10000\n",
            "Epoch 5 : 9044 / 10000\n",
            "Epoch 6 : 9068 / 10000\n",
            "Epoch 7 : 9118 / 10000\n",
            "Epoch 8 : 9160 / 10000\n",
            "Epoch 9 : 9156 / 10000\n",
            "Epoch 10 : 9204 / 10000\n",
            "Epoch 11 : 9201 / 10000\n",
            "Epoch 12 : 9235 / 10000\n",
            "Epoch 13 : 9260 / 10000\n",
            "Epoch 14 : 9266 / 10000\n",
            "Epoch 15 : 9286 / 10000\n",
            "Epoch 16 : 9298 / 10000\n",
            "Epoch 17 : 9289 / 10000\n",
            "Epoch 18 : 9311 / 10000\n",
            "Epoch 19 : 9296 / 10000\n",
            "Epoch 20 : 9321 / 10000\n",
            "Epoch 21 : 9318 / 10000\n",
            "Epoch 22 : 9327 / 10000\n",
            "Epoch 23 : 9339 / 10000\n",
            "Epoch 24 : 9343 / 10000\n",
            "Epoch 25 : 9350 / 10000\n",
            "Epoch 26 : 9339 / 10000\n",
            "Epoch 27 : 9356 / 10000\n",
            "Epoch 28 : 9353 / 10000\n",
            "Epoch 29 : 9362 / 10000\n"
          ]
        }
      ]
    },
    {
      "cell_type": "code",
      "source": [
        "net = network.Network([784, 30, 10])\n",
        "net.SGD(training_data, 30, 10, 1.0, test_data=test_data)"
      ],
      "metadata": {
        "id": "Vbm2zPOdOsiw",
        "outputId": "65426a15-300a-4e73-afbc-4b5557bd4caa",
        "colab": {
          "base_uri": "https://localhost:8080/"
        }
      },
      "execution_count": 46,
      "outputs": [
        {
          "output_type": "stream",
          "name": "stdout",
          "text": [
            "Epoch 0 : 7767 / 10000\n",
            "Epoch 1 : 8005 / 10000\n",
            "Epoch 2 : 8081 / 10000\n",
            "Epoch 3 : 8170 / 10000\n",
            "Epoch 4 : 8173 / 10000\n",
            "Epoch 5 : 8218 / 10000\n",
            "Epoch 6 : 8228 / 10000\n",
            "Epoch 7 : 8254 / 10000\n",
            "Epoch 8 : 8265 / 10000\n",
            "Epoch 9 : 8266 / 10000\n",
            "Epoch 10 : 8289 / 10000\n",
            "Epoch 11 : 8307 / 10000\n",
            "Epoch 12 : 8333 / 10000\n",
            "Epoch 13 : 8344 / 10000\n",
            "Epoch 14 : 8340 / 10000\n",
            "Epoch 15 : 8343 / 10000\n",
            "Epoch 16 : 8353 / 10000\n",
            "Epoch 17 : 8354 / 10000\n",
            "Epoch 18 : 8364 / 10000\n",
            "Epoch 19 : 8365 / 10000\n",
            "Epoch 20 : 8364 / 10000\n",
            "Epoch 21 : 8362 / 10000\n",
            "Epoch 22 : 8383 / 10000\n",
            "Epoch 23 : 8388 / 10000\n",
            "Epoch 24 : 8383 / 10000\n",
            "Epoch 25 : 8365 / 10000\n",
            "Epoch 26 : 8380 / 10000\n",
            "Epoch 27 : 8388 / 10000\n",
            "Epoch 28 : 8396 / 10000\n",
            "Epoch 29 : 8398 / 10000\n"
          ]
        }
      ]
    },
    {
      "cell_type": "code",
      "source": [
        "net = network.Network([784, 30, 10])\n",
        "net.SGD(training_data, 30, 10, 3.0, test_data=test_data)"
      ],
      "metadata": {
        "id": "xE8f03MQOsp_",
        "outputId": "8af83d41-c622-4b31-9afe-39ef6baced00",
        "colab": {
          "base_uri": "https://localhost:8080/"
        }
      },
      "execution_count": 47,
      "outputs": [
        {
          "output_type": "stream",
          "name": "stdout",
          "text": [
            "Epoch 0 : 8444 / 10000\n",
            "Epoch 1 : 8531 / 10000\n",
            "Epoch 2 : 8561 / 10000\n",
            "Epoch 3 : 8609 / 10000\n",
            "Epoch 4 : 8614 / 10000\n",
            "Epoch 5 : 8606 / 10000\n",
            "Epoch 6 : 8641 / 10000\n",
            "Epoch 7 : 8612 / 10000\n",
            "Epoch 8 : 8668 / 10000\n",
            "Epoch 9 : 8662 / 10000\n",
            "Epoch 10 : 8645 / 10000\n",
            "Epoch 11 : 8649 / 10000\n",
            "Epoch 12 : 8687 / 10000\n",
            "Epoch 13 : 8675 / 10000\n",
            "Epoch 14 : 8682 / 10000\n",
            "Epoch 15 : 8677 / 10000\n",
            "Epoch 16 : 8657 / 10000\n",
            "Epoch 17 : 8671 / 10000\n",
            "Epoch 18 : 8657 / 10000\n",
            "Epoch 19 : 8671 / 10000\n",
            "Epoch 20 : 8664 / 10000\n",
            "Epoch 21 : 8677 / 10000\n",
            "Epoch 22 : 8673 / 10000\n",
            "Epoch 23 : 8690 / 10000\n",
            "Epoch 24 : 8683 / 10000\n",
            "Epoch 25 : 8683 / 10000\n",
            "Epoch 26 : 8703 / 10000\n",
            "Epoch 27 : 8699 / 10000\n",
            "Epoch 28 : 8679 / 10000\n",
            "Epoch 29 : 8670 / 10000\n"
          ]
        }
      ]
    },
    {
      "cell_type": "code",
      "source": [
        "net = network.Network([784, 30, 10])\n",
        "net.SGD(training_data, 30, 10, 5.0, test_data=test_data)"
      ],
      "metadata": {
        "id": "cP1Paht5PIEL",
        "outputId": "3bfae49f-9159-4f41-ff55-58f875dfa633",
        "colab": {
          "base_uri": "https://localhost:8080/"
        }
      },
      "execution_count": 48,
      "outputs": [
        {
          "output_type": "stream",
          "name": "stdout",
          "text": [
            "Epoch 0 : 9126 / 10000\n",
            "Epoch 1 : 9300 / 10000\n",
            "Epoch 2 : 9308 / 10000\n",
            "Epoch 3 : 9319 / 10000\n",
            "Epoch 4 : 9402 / 10000\n",
            "Epoch 5 : 9402 / 10000\n",
            "Epoch 6 : 9406 / 10000\n",
            "Epoch 7 : 9431 / 10000\n",
            "Epoch 8 : 9458 / 10000\n",
            "Epoch 9 : 9450 / 10000\n",
            "Epoch 10 : 9491 / 10000\n",
            "Epoch 11 : 9442 / 10000\n",
            "Epoch 12 : 9455 / 10000\n",
            "Epoch 13 : 9469 / 10000\n",
            "Epoch 14 : 9444 / 10000\n",
            "Epoch 15 : 9491 / 10000\n",
            "Epoch 16 : 9487 / 10000\n",
            "Epoch 17 : 9452 / 10000\n",
            "Epoch 18 : 9483 / 10000\n",
            "Epoch 19 : 9474 / 10000\n",
            "Epoch 20 : 9474 / 10000\n",
            "Epoch 21 : 9516 / 10000\n",
            "Epoch 22 : 9491 / 10000\n",
            "Epoch 23 : 9505 / 10000\n",
            "Epoch 24 : 9491 / 10000\n",
            "Epoch 25 : 9497 / 10000\n",
            "Epoch 26 : 9478 / 10000\n",
            "Epoch 27 : 9493 / 10000\n",
            "Epoch 28 : 9517 / 10000\n",
            "Epoch 29 : 9500 / 10000\n"
          ]
        }
      ]
    }
  ]
}