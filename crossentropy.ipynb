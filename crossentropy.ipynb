{
  "nbformat": 4,
  "nbformat_minor": 0,
  "metadata": {
    "colab": {
      "provenance": [],
      "authorship_tag": "ABX9TyM84oASA35l09pSgRdIJI1P",
      "include_colab_link": true
    },
    "kernelspec": {
      "name": "python3",
      "display_name": "Python 3"
    },
    "language_info": {
      "name": "python"
    }
  },
  "cells": [
    {
      "cell_type": "markdown",
      "metadata": {
        "id": "view-in-github",
        "colab_type": "text"
      },
      "source": [
        "<a href=\"https://colab.research.google.com/github/kartoone/cosc470s24/blob/main/crossentropy.ipynb\" target=\"_parent\"><img src=\"https://colab.research.google.com/assets/colab-badge.svg\" alt=\"Open In Colab\"/></a>"
      ]
    },
    {
      "cell_type": "code",
      "execution_count": null,
      "metadata": {
        "colab": {
          "base_uri": "https://localhost:8080/"
        },
        "id": "Ud5e2KLaVU24",
        "outputId": "e388102e-7776-4b3b-b572-8114c1e4f77f"
      },
      "outputs": [
        {
          "output_type": "stream",
          "name": "stdout",
          "text": [
            "Cloning into 'nn'...\n",
            "remote: Enumerating objects: 63, done.\u001b[K\n",
            "remote: Counting objects: 100% (8/8), done.\u001b[K\n",
            "remote: Compressing objects: 100% (8/8), done.\u001b[K\n",
            "remote: Total 63 (delta 1), reused 3 (delta 0), pack-reused 55\u001b[K\n",
            "Receiving objects: 100% (63/63), 16.43 MiB | 12.99 MiB/s, done.\n",
            "Resolving deltas: 100% (28/28), done.\n",
            "/content/nn\n"
          ]
        }
      ],
      "source": [
        "!git clone https://github.com/MichalDanielDobrzanski/DeepLearningPython nn\n",
        "%cd nn"
      ]
    },
    {
      "cell_type": "code",
      "source": [
        "# this code depends on having executed the previous cell\n",
        "# (i.e., you need to have cloned the nn code and cd'ed into it)\n",
        "import network2\n",
        "import mnist_loader\n",
        "training_data, validation_data, test_data = mnist_loader.load_data_wrapper()\n",
        "training_data = list(training_data)\n",
        "test_data = list(test_data)"
      ],
      "metadata": {
        "id": "eBdWolNuWXNs"
      },
      "execution_count": null,
      "outputs": []
    },
    {
      "cell_type": "code",
      "source": [
        "net = network2.Network([784, 100, 10], cost=network2.CrossEntropyCost)\n",
        "net.large_weight_initializer()\n",
        "net.SGD(training_data, 30, 10, 0.5, evaluation_data=test_data, monitor_evaluation_accuracy=True)"
      ],
      "metadata": {
        "id": "tXyHVLOoWveF",
        "colab": {
          "base_uri": "https://localhost:8080/"
        },
        "outputId": "4b89cbd2-c0da-47bf-b443-b911d262b1be"
      },
      "execution_count": null,
      "outputs": [
        {
          "output_type": "stream",
          "name": "stdout",
          "text": [
            "Epoch 0 training complete\n",
            "Accuracy on evaluation data: 9237 / 10000\n",
            "Epoch 1 training complete\n",
            "Accuracy on evaluation data: 9479 / 10000\n",
            "Epoch 2 training complete\n",
            "Accuracy on evaluation data: 9532 / 10000\n",
            "Epoch 3 training complete\n",
            "Accuracy on evaluation data: 9559 / 10000\n",
            "Epoch 4 training complete\n",
            "Accuracy on evaluation data: 9566 / 10000\n",
            "Epoch 5 training complete\n",
            "Accuracy on evaluation data: 9593 / 10000\n",
            "Epoch 6 training complete\n",
            "Accuracy on evaluation data: 9618 / 10000\n",
            "Epoch 7 training complete\n",
            "Accuracy on evaluation data: 9632 / 10000\n",
            "Epoch 8 training complete\n",
            "Accuracy on evaluation data: 9666 / 10000\n",
            "Epoch 9 training complete\n",
            "Accuracy on evaluation data: 9640 / 10000\n",
            "Epoch 10 training complete\n",
            "Accuracy on evaluation data: 9657 / 10000\n",
            "Epoch 11 training complete\n",
            "Accuracy on evaluation data: 9672 / 10000\n",
            "Epoch 12 training complete\n",
            "Accuracy on evaluation data: 9643 / 10000\n",
            "Epoch 13 training complete\n",
            "Accuracy on evaluation data: 9686 / 10000\n",
            "Epoch 14 training complete\n",
            "Accuracy on evaluation data: 9674 / 10000\n",
            "Epoch 15 training complete\n",
            "Accuracy on evaluation data: 9684 / 10000\n",
            "Epoch 16 training complete\n",
            "Accuracy on evaluation data: 9688 / 10000\n",
            "Epoch 17 training complete\n",
            "Accuracy on evaluation data: 9678 / 10000\n",
            "Epoch 18 training complete\n",
            "Accuracy on evaluation data: 9676 / 10000\n",
            "Epoch 19 training complete\n",
            "Accuracy on evaluation data: 9680 / 10000\n",
            "Epoch 20 training complete\n",
            "Accuracy on evaluation data: 9686 / 10000\n",
            "Epoch 21 training complete\n",
            "Accuracy on evaluation data: 9696 / 10000\n",
            "Epoch 22 training complete\n",
            "Accuracy on evaluation data: 9691 / 10000\n",
            "Epoch 23 training complete\n",
            "Accuracy on evaluation data: 9689 / 10000\n",
            "Epoch 24 training complete\n",
            "Accuracy on evaluation data: 9672 / 10000\n",
            "Epoch 25 training complete\n",
            "Accuracy on evaluation data: 9692 / 10000\n",
            "Epoch 26 training complete\n",
            "Accuracy on evaluation data: 9694 / 10000\n",
            "Epoch 27 training complete\n",
            "Accuracy on evaluation data: 9669 / 10000\n",
            "Epoch 28 training complete\n",
            "Accuracy on evaluation data: 9684 / 10000\n",
            "Epoch 29 training complete\n",
            "Accuracy on evaluation data: 9687 / 10000\n"
          ]
        },
        {
          "output_type": "execute_result",
          "data": {
            "text/plain": [
              "([],\n",
              " [9237,\n",
              "  9479,\n",
              "  9532,\n",
              "  9559,\n",
              "  9566,\n",
              "  9593,\n",
              "  9618,\n",
              "  9632,\n",
              "  9666,\n",
              "  9640,\n",
              "  9657,\n",
              "  9672,\n",
              "  9643,\n",
              "  9686,\n",
              "  9674,\n",
              "  9684,\n",
              "  9688,\n",
              "  9678,\n",
              "  9676,\n",
              "  9680,\n",
              "  9686,\n",
              "  9696,\n",
              "  9691,\n",
              "  9689,\n",
              "  9672,\n",
              "  9692,\n",
              "  9694,\n",
              "  9669,\n",
              "  9684,\n",
              "  9687],\n",
              " [],\n",
              " [])"
            ]
          },
          "metadata": {},
          "execution_count": 6
        }
      ]
    }
  ]
}